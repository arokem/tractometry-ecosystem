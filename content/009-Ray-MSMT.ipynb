{
 "cells": [
  {
   "cell_type": "markdown",
   "id": "cb2c2324",
   "metadata": {},
   "source": [
    "# Reconstruction with Multi-Shell Multi-Tissue CSD\n",
    "\n",
    "This tutorial is based off the example provided here: https://github.com/dipy/dipy/blob/master/doc/examples/reconst_mcsd.py\n",
    "\n",
    "This example shows how to fit Multi-Shell Multi-Tissue Constrained Spherical\n",
    "Deconvolution (MSMT-CSD) using Ray for parallelization. "
   ]
  },
  {
   "cell_type": "code",
   "execution_count": null,
   "id": "7ccef265",
   "metadata": {
    "jupyter": {
     "outputs_hidden": true
    }
   },
   "outputs": [],
   "source": [
    "from paths import afq_home"
   ]
  },
  {
   "cell_type": "code",
   "execution_count": null,
   "id": "a6a43323",
   "metadata": {
    "jupyter": {
     "outputs_hidden": true
    }
   },
   "outputs": [],
   "source": [
    "import matplotlib.pyplot as plt\n",
    "import os.path as op\n",
    "import numpy as np\n",
    "\n",
    "import AFQ.data.fetch as afd\n",
    "\n",
    "from dipy.core.gradients import gradient_table, unique_bvals_tolerance\n",
    "from dipy.data import get_sphere\n",
    "import dipy.direction.peaks as dp\n",
    "from dipy.io.gradients import read_bvals_bvecs\n",
    "from dipy.io.image import load_nifti\n",
    "from dipy.reconst.mcsd import (\n",
    "    MultiShellDeconvModel,\n",
    "    mask_for_response_msmt,\n",
    "    multi_shell_fiber_response,\n",
    "    response_from_mask_msmt,\n",
    ")\n",
    "import dipy.reconst.shm as shm\n",
    "from dipy.segment.tissue import TissueClassifierHMRF\n",
    "from dipy.segment.mask import median_otsu"
   ]
  },
  {
   "cell_type": "markdown",
   "id": "2c9e9e44",
   "metadata": {},
   "source": [
    "## Download dataset\n",
    "\n",
    "We use the fetch function to download a multi-shell dataset provided by Hansen and Jespersen.\n"
   ]
  },
  {
   "cell_type": "code",
   "execution_count": null,
   "id": "9cd6883e",
   "metadata": {
    "jupyter": {
     "outputs_hidden": true
    }
   },
   "outputs": [],
   "source": [
    "sphere = get_sphere(name=\"symmetric724\")\n",
    "study_dir = afd.fetch_hbn_preproc([\"NDARAA948VFH\"])[1]\n",
    "sub_dir = op.join(study_dir, \"derivatives/qsiprep/sub-NDARAA948VFH\")\n",
    "\n",
    "fraw = op.join(sub_dir, \"ses-HBNsiteRU/dwi/sub-NDARAA948VFH_ses-HBNsiteRU_acq-64dir_space-T1w_desc-preproc_dwi.nii.gz\")\n",
    "fbval = op.join(sub_dir, \"ses-HBNsiteRU/dwi/sub-NDARAA948VFH_ses-HBNsiteRU_acq-64dir_space-T1w_desc-preproc_dwi.bval\")\n",
    "fbvec = op.join(sub_dir, \"ses-HBNsiteRU/dwi/sub-NDARAA948VFH_ses-HBNsiteRU_acq-64dir_space-T1w_desc-preproc_dwi.bvec\")\n",
    "t1_fname = op.join(sub_dir, \"anat/sub-NDARAA948VFH_desc-preproc_T1w.nii.gz\")\n",
    "\n",
    "data, affine = load_nifti(fraw)\n",
    "bvals, bvecs = read_bvals_bvecs(fbval, fbvec)\n",
    "gtab = gradient_table(bvals, bvecs=bvecs)"
   ]
  },
  {
   "cell_type": "markdown",
   "id": "6d05eedd",
   "metadata": {},
   "source": [
    "## Generate brain mask\n",
    "\n",
    "We make use of the `median_otsu` method to generate the mask.\n"
   ]
  },
  {
   "cell_type": "code",
   "execution_count": null,
   "id": "11fc1801",
   "metadata": {
    "jupyter": {
     "outputs_hidden": true
    }
   },
   "outputs": [],
   "source": [
    "b0_mask, mask = median_otsu(data, median_radius=2, numpass=1, vol_idx=[0, 1])\n"
   ]
  },
  {
   "cell_type": "markdown",
   "id": "5f847fab",
   "metadata": {},
   "source": [
    "## Generate Anisotropic Power Map\n"
   ]
  },
  {
   "cell_type": "code",
   "execution_count": null,
   "id": "6a615b35",
   "metadata": {
    "jupyter": {
     "outputs_hidden": true
    }
   },
   "outputs": [],
   "source": [
    "qball_model = shm.QballModel(gtab, 8)\n",
    "peaks = dp.peaks_from_model(\n",
    "    model=qball_model,\n",
    "    data=data,\n",
    "    relative_peak_threshold=0.5,\n",
    "    min_separation_angle=25,\n",
    "    sphere=sphere,\n",
    "    mask=mask,\n",
    ")\n",
    "ap = shm.anisotropic_power(peaks.shm_coeff)\n",
    "plt.matshow(np.rot90(ap[:, :, 50]), cmap=plt.cm.bone)\n",
    "plt.show()"
   ]
  },
  {
   "cell_type": "code",
   "execution_count": null,
   "id": "1efa516a-91c0-4a55-b357-f9754d41bb84",
   "metadata": {
    "jupyter": {
     "outputs_hidden": true
    }
   },
   "outputs": [],
   "source": [
    "plt.close()"
   ]
  },
  {
   "cell_type": "markdown",
   "id": "f982e9a3",
   "metadata": {},
   "source": [
    "## Tissue Classification using HMRF\n",
    "\n",
    "We use Hidden Markov Random Fields for tissue classification.\n"
   ]
  },
  {
   "cell_type": "code",
   "execution_count": null,
   "id": "96c2671c",
   "metadata": {
    "jupyter": {
     "outputs_hidden": true
    }
   },
   "outputs": [],
   "source": [
    "nclass = 3\n",
    "beta = 0.1\n",
    "hmrf = TissueClassifierHMRF()\n",
    "initial_segmentation, final_segmentation, PVE = hmrf.classify(ap, nclass, beta)\n",
    "\n",
    "csf = np.where(final_segmentation == 1, 1, 0)\n",
    "gm = np.where(final_segmentation == 2, 1, 0)\n",
    "wm = np.where(final_segmentation == 3, 1, 0)"
   ]
  },
  {
   "cell_type": "markdown",
   "id": "cf9eed8f",
   "metadata": {},
   "source": [
    "## Estimate response functions\n"
   ]
  },
  {
   "cell_type": "code",
   "execution_count": null,
   "id": "e8722ab2",
   "metadata": {
    "jupyter": {
     "outputs_hidden": true
    }
   },
   "outputs": [],
   "source": [
    "mask_wm, mask_gm, mask_csf = mask_for_response_msmt(\n",
    "    gtab,\n",
    "    data,\n",
    "    roi_radii=10,\n",
    "    wm_fa_thr=0.7,\n",
    "    gm_fa_thr=0.3,\n",
    "    csf_fa_thr=0.15,\n",
    "    gm_md_thr=0.001,\n",
    "    csf_md_thr=0.0032,\n",
    ")\n",
    "\n",
    "mask_wm *= wm\n",
    "mask_gm *= gm\n",
    "mask_csf *= csf\n",
    "\n",
    "response_wm, response_gm, response_csf = response_from_mask_msmt(\n",
    "    gtab, data, mask_wm, mask_gm, mask_csf\n",
    ")\n",
    "\n",
    "print(response_wm)\n",
    "print(response_gm)\n",
    "print(response_csf)"
   ]
  },
  {
   "cell_type": "markdown",
   "id": "435f52c4",
   "metadata": {},
   "source": [
    "## Reconstruction with MSMT-CSD\n"
   ]
  },
  {
   "cell_type": "code",
   "execution_count": null,
   "id": "ccd78a0d",
   "metadata": {
    "jupyter": {
     "outputs_hidden": true
    }
   },
   "outputs": [],
   "source": [
    "ubvals = unique_bvals_tolerance(gtab.bvals)\n",
    "response_mcsd = multi_shell_fiber_response(\n",
    "    sh_order_max=8,\n",
    "    bvals=ubvals,\n",
    "    wm_rf=response_wm,\n",
    "    gm_rf=response_gm,\n",
    "    csf_rf=response_csf,\n",
    ")\n",
    "\n",
    "mcsd_model = MultiShellDeconvModel(gtab, response_mcsd)\n",
    "mcsd_fit = mcsd_model.fit(data[:, :, 50], engine=\"ray\") # Using a subset of the data for speed in this example"
   ]
  },
  {
   "cell_type": "code",
   "execution_count": null,
   "id": "67d590ba-41c7-4dcf-bfd1-dca6582aecf3",
   "metadata": {
    "jupyter": {
     "outputs_hidden": true
    }
   },
   "outputs": [],
   "source": [
    "ap = shm.anisotropic_power(mcsd_fit.shm_coeff)\n",
    "plt.matshow(np.rot90(ap[:, :]), cmap=plt.cm.bone)\n",
    "plt.show()"
   ]
  },
  {
   "cell_type": "code",
   "execution_count": null,
   "id": "01aa0109",
   "metadata": {},
   "outputs": [],
   "source": [
    "plt.close()"
   ]
  },
  {
   "cell_type": "markdown",
   "id": "32f39384",
   "metadata": {},
   "source": [
    "## References\n",
    "\n",
    "- Jeurissen, B., et al. \"Multi-tissue constrained spherical deconvolution for improved analysis of multi-shell diffusion MRI data.\" NeuroImage 2014.\n",
    "- Tournier, J-D., et al. \"Robust determination of the fibre orientation distribution in diffusion MRI.\" NeuroImage 2007.\n"
   ]
  }
 ],
 "metadata": {
  "kernelspec": {
   "display_name": "Python 3 (ipykernel)",
   "language": "python",
   "name": "python3"
  },
  "language_info": {
   "codemirror_mode": {
    "name": "ipython",
    "version": 3
   },
   "file_extension": ".py",
   "mimetype": "text/x-python",
   "name": "python",
   "nbconvert_exporter": "python",
   "pygments_lexer": "ipython3",
   "version": "3.11.8"
  }
 },
 "nbformat": 4,
 "nbformat_minor": 5
}
